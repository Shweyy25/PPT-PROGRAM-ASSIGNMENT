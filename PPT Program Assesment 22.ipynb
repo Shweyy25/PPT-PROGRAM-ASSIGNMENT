{
 "cells": [
  {
   "cell_type": "markdown",
   "id": "ffabe312",
   "metadata": {},
   "source": [
    "# PPT Program Assesment 22"
   ]
  },
  {
   "cell_type": "markdown",
   "id": "1ea91b30",
   "metadata": {},
   "source": [
    " Question-1:\n",
    "\n",
    "Given a Binary Tree (Bt), convert it to a Doubly Linked List(DLL). The left and right pointers in nodes are to be used as previous and next pointers respectively in converted DLL. The order of nodes in DLL must be the same as in Inorder for the given Binary Tree. The first node of Inorder traversal (leftmost node in BT) must be the head node of the DLL.\n"
   ]
  },
  {
   "cell_type": "code",
   "execution_count": 1,
   "id": "b6ece9c4",
   "metadata": {},
   "outputs": [
    {
     "name": "stdout",
     "output_type": "stream",
     "text": [
      "10 -> 15 -> 20 -> 30 -> None\n"
     ]
    }
   ],
   "source": [
    "class Node:\n",
    "    def __init__(self, val=0, left=None, right=None):\n",
    "        self.val = val\n",
    "        self.left = left\n",
    "        self.right = right\n",
    "\n",
    "def convertToDLL(root):\n",
    "    if not root:\n",
    "        return None\n",
    "\n",
    "    if root.left:\n",
    "        left = convertToDLL(root.left)\n",
    "        while left.right:\n",
    "            left = left.right\n",
    "        left.right = root\n",
    "        root.left = left\n",
    "\n",
    "    if root.right:\n",
    "        right = convertToDLL(root.right)\n",
    "        while right.left:\n",
    "            right = right.left\n",
    "        right.left = root\n",
    "        root.right = right\n",
    "\n",
    "    return root\n",
    "\n",
    "# Test case\n",
    "root = Node(10)\n",
    "root.left = Node(5)\n",
    "root.right = Node(20)\n",
    "root.right.left = Node(15)\n",
    "root.right.right = Node(30)\n",
    "\n",
    "head = convertToDLL(root)\n",
    "\n",
    "# Print the doubly linked list\n",
    "current = head\n",
    "while current:\n",
    "    print(current.val, end=\" -> \")\n",
    "    current = current.right\n",
    "print(\"None\")"
   ]
  },
  {
   "cell_type": "markdown",
   "id": "c569d2f4",
   "metadata": {},
   "source": [
    "<aside>\n",
    "💡 Question-2\n",
    "\n",
    "A Given a binary tree, the task is to flip the binary tree towards the right direction that is clockwise. See the below examples to see the transformation.\n",
    "\n",
    "In the flip operation, the leftmost node becomes the root of the flipped tree and its parent becomes its right child and the right sibling becomes its left child and the same should be done for all left most nodes recursively.\n",
    "\n",
    "Example1:\n",
    "\n",
    "</aside>"
   ]
  },
  {
   "cell_type": "code",
   "execution_count": 2,
   "id": "1dbef31c",
   "metadata": {},
   "outputs": [
    {
     "name": "stdout",
     "output_type": "stream",
     "text": [
      "1 3 2 5 4 "
     ]
    }
   ],
   "source": [
    "class Node:\n",
    "    def __init__(self, val=0, left=None, right=None):\n",
    "        self.val = val\n",
    "        self.left = left\n",
    "        self.right = right\n",
    "\n",
    "def flipBinaryTree(root):\n",
    "    if not root:\n",
    "        return None\n",
    "\n",
    "    # Base case: If the node is a leaf, return the node itself\n",
    "    if not root.left and not root.right:\n",
    "        return root\n",
    "\n",
    "    # Recursively flip the left and right subtrees\n",
    "    flippedLeft = flipBinaryTree(root.left)\n",
    "    flippedRight = flipBinaryTree(root.right)\n",
    "\n",
    "    # Update the left and right pointers\n",
    "    root.left = flippedRight\n",
    "    root.right = flippedLeft\n",
    "\n",
    "    return root\n",
    "\n",
    "# Test case\n",
    "root = Node(1)\n",
    "root.left = Node(2)\n",
    "root.right = Node(3)\n",
    "root.left.left = Node(4)\n",
    "root.left.right = Node(5)\n",
    "\n",
    "flippedRoot = flipBinaryTree(root)\n",
    "\n",
    "# Print the flipped binary tree\n",
    "def printTree(node):\n",
    "    if not node:\n",
    "        return\n",
    "    print(node.val, end=\" \")\n",
    "    printTree(node.left)\n",
    "    printTree(node.right)\n",
    "\n",
    "printTree(flippedRoot)"
   ]
  },
  {
   "cell_type": "markdown",
   "id": "f290c5b9",
   "metadata": {},
   "source": [
    "<aside>\n",
    "💡 Question-3:\n",
    "\n",
    "Given a binary tree, print all its root-to-leaf paths without using recursion. For example, consider the following Binary Tree.\n",
    "\n",
    "Input:\n",
    "\n",
    "        6\n",
    "     /    \\\n",
    "    3      5\n",
    "  /   \\     \\\n",
    " 2     5     4\n",
    "     /   \\\n",
    "    7     4\n",
    "\n",
    "Output:\n",
    "\n",
    "There are 4 leaves, hence 4 root to leaf paths -\n",
    "  6->3->2\n",
    "  6->3->5->7\n",
    "  6->3->5->4\n",
    "  6->5>4\n",
    "\n",
    "</aside>"
   ]
  },
  {
   "cell_type": "code",
   "execution_count": 3,
   "id": "f48b5b1d",
   "metadata": {},
   "outputs": [
    {
     "name": "stdout",
     "output_type": "stream",
     "text": [
      "6->3->2\n",
      "6->3->5->7\n",
      "6->3->5->4\n",
      "6->5->4\n"
     ]
    }
   ],
   "source": [
    "class Node:\n",
    "    def __init__(self, val=0, left=None, right=None):\n",
    "        self.val = val\n",
    "        self.left = left\n",
    "        self.right = right\n",
    "\n",
    "def printRootToLeafPaths(root):\n",
    "    if not root:\n",
    "        return\n",
    "\n",
    "    stack = [(root, str(root.val))]\n",
    "\n",
    "    while stack:\n",
    "        node, path = stack.pop()\n",
    "\n",
    "        # If the node is a leaf, print the path\n",
    "        if not node.left and not node.right:\n",
    "            print(path)\n",
    "\n",
    "        # Push the right child to the stack (if exists)\n",
    "        if node.right:\n",
    "            stack.append((node.right, path + \"->\" + str(node.right.val)))\n",
    "\n",
    "        # Push the left child to the stack (if exists)\n",
    "        if node.left:\n",
    "            stack.append((node.left, path + \"->\" + str(node.left.val)))\n",
    "\n",
    "# Test case\n",
    "root = Node(6)\n",
    "root.left = Node(3)\n",
    "root.right = Node(5)\n",
    "root.left.left = Node(2)\n",
    "root.left.right = Node(5)\n",
    "root.right.right = Node(4)\n",
    "root.left.right.left = Node(7)\n",
    "root.left.right.right = Node(4)\n",
    "\n",
    "printRootToLeafPaths(root)"
   ]
  },
  {
   "cell_type": "markdown",
   "id": "402060ce",
   "metadata": {},
   "source": [
    "<aside>\n",
    "💡 Question-4:\n",
    "\n",
    "Given Preorder, Inorder and Postorder traversals of some tree. Write a program to check if they all are of the same tree.\n",
    "\n",
    "**Examples:**\n",
    "\n",
    "Input : \n",
    "\n",
    "        Inorder -> 4 2 5 1 3\n",
    "        Preorder -> 1 2 4 5 3\n",
    "        Postorder -> 4 5 2 3 1\n",
    "Output : \n",
    "\n",
    "Yes\n",
    "Explanation : \n",
    "\n",
    "All of the above three traversals are of\n",
    "the same tree \n",
    "\n",
    "                           1\n",
    "                         /   \\\n",
    "                        2     3\n",
    "                      /   \\\n",
    "                     4     5\n",
    "\n",
    "Input : \n",
    "\n",
    "        Inorder -> 4 2 5 1 3\n",
    "        Preorder -> 1 5 4 2 3\n",
    "        Postorder -> 4 1 2 3 5\n",
    "Output : \n",
    "\n",
    "No\n",
    "\n",
    "</aside>"
   ]
  },
  {
   "cell_type": "code",
   "execution_count": 4,
   "id": "5de44962",
   "metadata": {},
   "outputs": [
    {
     "name": "stdout",
     "output_type": "stream",
     "text": [
      "True\n",
      "False\n"
     ]
    }
   ],
   "source": [
    "def checkTraversal(inorder, preorder, postorder):\n",
    "    # Base case: If any of the traversals is empty, they are of the same tree\n",
    "    if not inorder or not preorder or not postorder:\n",
    "        return True\n",
    "\n",
    "    # Check if the first element of preorder and last element of postorder are the same\n",
    "    if preorder[0] != postorder[-1]:\n",
    "        return False\n",
    "\n",
    "    # Find the root index in inorder traversal\n",
    "    root_index = inorder.index(preorder[0])\n",
    "\n",
    "    # Recursively check the left and right subtrees\n",
    "    left_subtree = checkTraversal(inorder[:root_index], preorder[1:root_index+1], postorder[:root_index])\n",
    "    right_subtree = checkTraversal(inorder[root_index+1:], preorder[root_index+1:], postorder[root_index:-1])\n",
    "\n",
    "    # Return True if both left and right subtrees are of the same tree, otherwise False\n",
    "    return left_subtree and right_subtree\n",
    "\n",
    "# Test case 1\n",
    "inorder1 = [4, 2, 5, 1, 3]\n",
    "preorder1 = [1, 2, 4, 5, 3]\n",
    "postorder1 = [4, 5, 2, 3, 1]\n",
    "print(checkTraversal(inorder1, preorder1, postorder1))  \n",
    "\n",
    "# Test case 2\n",
    "inorder2 = [4, 2, 5, 1, 3]\n",
    "preorder2 = [1, 5, 4, 2, 3]\n",
    "postorder2 = [4, 1, 2, 3, 5]\n",
    "print(checkTraversal(inorder2, preorder2, postorder2))  "
   ]
  },
  {
   "cell_type": "code",
   "execution_count": null,
   "id": "1536d4b2",
   "metadata": {},
   "outputs": [],
   "source": []
  }
 ],
 "metadata": {
  "kernelspec": {
   "display_name": "Python 3 (ipykernel)",
   "language": "python",
   "name": "python3"
  },
  "language_info": {
   "codemirror_mode": {
    "name": "ipython",
    "version": 3
   },
   "file_extension": ".py",
   "mimetype": "text/x-python",
   "name": "python",
   "nbconvert_exporter": "python",
   "pygments_lexer": "ipython3",
   "version": "3.9.13"
  }
 },
 "nbformat": 4,
 "nbformat_minor": 5
}
