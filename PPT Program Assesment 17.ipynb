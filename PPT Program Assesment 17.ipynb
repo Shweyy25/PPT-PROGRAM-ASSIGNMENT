{
 "cells": [
  {
   "cell_type": "markdown",
   "id": "c302b0af",
   "metadata": {},
   "source": [
    "# PPT Program Assesment 17"
   ]
  },
  {
   "cell_type": "markdown",
   "id": "52c29c6f",
   "metadata": {},
   "source": [
    "<aside>\n",
    "💡 **Question 1**\n",
    "\n",
    "Given a string `s`, *find the first non-repeating character in it and return its index*. If it does not exist, return `-1`.\n",
    "\n",
    "**Example 1:**\n",
    "\n",
    "Input: s = \"leetcode\"\n",
    "Output: 0"
   ]
  },
  {
   "cell_type": "code",
   "execution_count": 1,
   "id": "415de354",
   "metadata": {},
   "outputs": [
    {
     "name": "stdout",
     "output_type": "stream",
     "text": [
      "String 1: leetcode\n",
      "First Non-Repeating Character Index: 0\n"
     ]
    }
   ],
   "source": [
    "def first_unique_char(s):\n",
    "    char_freq = {}\n",
    "    \n",
    "    # Count the frequency of each character\n",
    "    for char in s:\n",
    "        char_freq[char] = char_freq.get(char, 0) + 1\n",
    "    \n",
    "    # Find the first non-repeating character\n",
    "    for i, char in enumerate(s):\n",
    "        if char_freq[char] == 1:\n",
    "            return i\n",
    "    \n",
    "    return -1\n",
    "\n",
    "# Test the implementation\n",
    "s1 = \"leetcode\"\n",
    "print(\"String 1:\", s1)\n",
    "\n",
    "index1 = first_unique_char(s1)\n",
    "print(\"First Non-Repeating Character Index:\", index1)"
   ]
  },
  {
   "cell_type": "markdown",
   "id": "b13780a1",
   "metadata": {},
   "source": [
    "<aside>\n",
    "💡 **Question 2**\n",
    "\n",
    "Given a **circular integer array** `nums` of length `n`, return *the maximum possible sum of a non-empty **subarray** of* `nums`.\n",
    "\n",
    "A **circular array** means the end of the array connects to the beginning of the array. Formally, the next element of `nums[i]` is `nums[(i + 1) % n]` and the previous element of `nums[i]` is `nums[(i - 1 + n) % n]`.\n",
    "\n",
    "A **subarray** may only include each element of the fixed buffer `nums` at most once. Formally, for a subarray `nums[i], nums[i + 1], ..., nums[j]`, there does not exist `i <= k1`, `k2 <= j` with `k1 % n == k2 % n`.\n",
    "\n",
    "**Example 1:**\n",
    "\n",
    "Input: nums = [1,-2,3,-2]\n",
    "Output: 3\n",
    "Explanation: Subarray [3] has maximum sum 3.\n"
   ]
  },
  {
   "cell_type": "code",
   "execution_count": 2,
   "id": "c9253463",
   "metadata": {},
   "outputs": [
    {
     "name": "stdout",
     "output_type": "stream",
     "text": [
      "Input: [1, -2, 3, -2]\n",
      "Maximum Subarray Sum: inf\n"
     ]
    }
   ],
   "source": [
    "def max_subarray_sum(nums):\n",
    "    # Find the maximum subarray sum without wrapping\n",
    "    max_sum = float('-inf')\n",
    "    current_sum = 0\n",
    "    for num in nums:\n",
    "        current_sum = max(num, current_sum + num)\n",
    "        max_sum = max(max_sum, current_sum)\n",
    "\n",
    "    # Find the maximum subarray sum with wrapping\n",
    "    total_sum = sum(nums)\n",
    "    max_wrap_sum = float('-inf')\n",
    "    current_sum = 0\n",
    "    for num in nums:\n",
    "        current_sum = min(num, current_sum + num)\n",
    "        max_wrap_sum = min(max_wrap_sum, current_sum)\n",
    "\n",
    "    # Calculate the maximum subarray sum\n",
    "    if max_sum < 0:\n",
    "        return max_sum  # All elements are negative\n",
    "    else:\n",
    "        return max(max_sum, total_sum - max_wrap_sum)\n",
    "\n",
    "# Test the implementation\n",
    "nums1 = [1, -2, 3, -2]\n",
    "print(\"Input:\", nums1)\n",
    "print(\"Maximum Subarray Sum:\", max_subarray_sum(nums1))"
   ]
  },
  {
   "cell_type": "markdown",
   "id": "507d306e",
   "metadata": {},
   "source": [
    "<aside>\n",
    "💡 **Question 3**\n",
    "\n",
    "The school cafeteria offers circular and square sandwiches at lunch break, referred to by numbers `0` and `1` respectively. All students stand in a queue. Each student either prefers square or circular sandwiches.\n",
    "\n",
    "The number of sandwiches in the cafeteria is equal to the number of students. The sandwiches are placed in a **stack**. At each step:\n",
    "\n",
    "- If the student at the front of the queue **prefers** the sandwich on the top of the stack, they will **take it** and leave the queue.\n",
    "- Otherwise, they will **leave it** and go to the queue's end.\n",
    "\n",
    "This continues until none of the queue students want to take the top sandwich and are thus unable to eat.\n",
    "\n",
    "You are given two integer arrays `students` and `sandwiches` where `sandwiches[i]` is the type of the `ith` sandwich in the stack (`i = 0` is the top of the stack) and `students[j]` is the preference of the `jth` student in the initial queue (`j = 0` is the front of the queue). Return *the number of students that are unable to eat.*\n",
    "\n",
    "**Example 1:**\n",
    "\n",
    "Input: students = [1,1,0,0], sandwiches = [0,1,0,1]\n",
    "Output: 0\n",
    "    \n",
    "    Input: students = [1,1,1,0,0,1], sandwiches = [1,0,0,0,1,1]\n",
    "Output: 3"
   ]
  },
  {
   "cell_type": "code",
   "execution_count": 3,
   "id": "ec01cb6c",
   "metadata": {},
   "outputs": [
    {
     "name": "stdout",
     "output_type": "stream",
     "text": [
      "Students Unable to Eat: 3\n"
     ]
    }
   ],
   "source": [
    "def count_students_unable_to_eat(students, sandwiches):\n",
    "    unable_to_eat = 0\n",
    "    students_count = len(students)\n",
    "    sandwiches_count = len(sandwiches)\n",
    "    i = 0\n",
    "\n",
    "    while i < students_count and sandwiches:\n",
    "        if students[i] == sandwiches[0]:\n",
    "            sandwiches.pop(0)\n",
    "            i += 1\n",
    "        else:\n",
    "            # Rotate the queue by moving the front student to the end\n",
    "            students.append(students[i])\n",
    "            i += 1\n",
    "\n",
    "        if i == students_count:\n",
    "            i = 0\n",
    "\n",
    "    unable_to_eat = students_count - i\n",
    "\n",
    "    return unable_to_eat\n",
    "\n",
    "# Test the implementation\n",
    "students1 = [1, 1, 0, 0]\n",
    "sandwiches1 = [0, 1, 0, 1]\n",
    "print(\"Students Unable to Eat:\", count_students_unable_to_eat(students1, sandwiches1))"
   ]
  },
  {
   "cell_type": "markdown",
   "id": "6d59c557",
   "metadata": {},
   "source": [
    "<aside>\n",
    "💡 **Question 4**\n",
    "\n",
    "You have a `RecentCounter` class which counts the number of recent requests within a certain time frame.\n",
    "\n",
    "Implement the `RecentCounter` class:\n",
    "\n",
    "- `RecentCounter()` Initializes the counter with zero recent requests.\n",
    "- `int ping(int t)` Adds a new request at time `t`, where `t` represents some time in milliseconds, and returns the number of requests that has happened in the past `3000` milliseconds (including the new request). Specifically, return the number of requests that have happened in the inclusive range `[t - 3000, t]`.\n",
    "\n",
    "It is **guaranteed** that every call to `ping` uses a strictly larger value of `t` than the previous call.\n",
    "\n",
    "**Example 1:**\n",
    "\n",
    "Input\n",
    "[\"RecentCounter\", \"ping\", \"ping\", \"ping\", \"ping\"]\n",
    "[[], [1], [100], [3001], [3002]]\n",
    "Output\n",
    "[null, 1, 2, 3, 3]\n"
   ]
  },
  {
   "cell_type": "code",
   "execution_count": 5,
   "id": "d5fe962c",
   "metadata": {},
   "outputs": [
    {
     "name": "stdout",
     "output_type": "stream",
     "text": [
      "Number of Requests: 1\n",
      "Number of Requests: 2\n",
      "Number of Requests: 3\n",
      "Number of Requests: 3\n"
     ]
    }
   ],
   "source": [
    "from collections import deque\n",
    "\n",
    "class RecentCounter:\n",
    "    def __init__(self):\n",
    "        self.requests = deque()\n",
    "\n",
    "    def ping(self, t: int) -> int:\n",
    "        # Remove timestamps that are not within the time frame\n",
    "        while self.requests and self.requests[0] < t - 3000:\n",
    "            self.requests.popleft()\n",
    "\n",
    "        # Add the new request timestamp to the queue\n",
    "        self.requests.append(t)\n",
    "\n",
    "        # Return the number of requests in the queue\n",
    "        return len(self.requests)\n",
    "\n",
    "# Test the implementation\n",
    "recent_counter = RecentCounter()\n",
    "print(\"Number of Requests:\", recent_counter.ping(1))\n",
    "print(\"Number of Requests:\", recent_counter.ping(100))\n",
    "print(\"Number of Requests:\", recent_counter.ping(3001))\n",
    "print(\"Number of Requests:\", recent_counter.ping(3002))"
   ]
  },
  {
   "cell_type": "markdown",
   "id": "e0ec10bb",
   "metadata": {},
   "source": [
    "<aside>\n",
    "💡 **Question 5**\n",
    "\n",
    "There are `n` friends that are playing a game. The friends are sitting in a circle and are numbered from `1` to `n` in **clockwise order**. More formally, moving clockwise from the `ith` friend brings you to the `(i+1)th` friend for `1 <= i < n`, and moving clockwise from the `nth` friend brings you to the `1st` friend.\n",
    "\n",
    "The rules of the game are as follows:\n",
    "\n",
    "1. **Start** at the `1st` friend.\n",
    "2. Count the next `k` friends in the clockwise direction **including** the friend you started at. The counting wraps around the circle and may count some friends more than once.\n",
    "3. The last friend you counted leaves the circle and loses the game.\n",
    "4. If there is still more than one friend in the circle, go back to step `2` **starting** from the friend **immediately clockwise** of the friend who just lost and repeat.\n",
    "5. Else, the last friend in the circle wins the game.\n",
    "\n",
    "Given the number of friends, `n`, and an integer `k`, return *the winner of the game*.\n",
    "\n",
    "**Example 1:**\n",
    "\n",
    "Input: n = 5, k = 2\n",
    "Output: 3"
   ]
  },
  {
   "cell_type": "code",
   "execution_count": 6,
   "id": "68a2ac3f",
   "metadata": {},
   "outputs": [
    {
     "name": "stdout",
     "output_type": "stream",
     "text": [
      "Winner: 3\n"
     ]
    }
   ],
   "source": [
    "def findWinner(n: int, k: int) -> int:\n",
    "    friends = list(range(1, n+1))  # Create a list of friends\n",
    "    current = 0  # Index of the current friend\n",
    "\n",
    "    while len(friends) > 1:\n",
    "        current = (current + k - 1) % len(friends)  # Move to the next friend to be counted\n",
    "        friends.pop(current)  # Remove the friend from the circle\n",
    "\n",
    "    return friends[0]  # Return the last remaining friend (the winner)\n",
    "\n",
    "# Test the implementation\n",
    "n = 5\n",
    "k = 2\n",
    "winner = findWinner(n, k)\n",
    "print(\"Winner:\", winner)"
   ]
  },
  {
   "cell_type": "markdown",
   "id": "09e167b4",
   "metadata": {},
   "source": [
    "💡 **Question 6**\n",
    "\n",
    "You are given an integer array `deck`. There is a deck of cards where every card has a unique integer. The integer on the `ith` card is `deck[i]`.\n",
    "\n",
    "You can order the deck in any order you want. Initially, all the cards start face down (unrevealed) in one deck.\n",
    "\n",
    "You will do the following steps repeatedly until all cards are revealed:\n",
    "\n",
    "1. Take the top card of the deck, reveal it, and take it out of the deck.\n",
    "2. If there are still cards in the deck then put the next top card of the deck at the bottom of the deck.\n",
    "3. If there are still unrevealed cards, go back to step 1. Otherwise, stop.\n",
    "\n",
    "Return *an ordering of the deck that would reveal the cards in increasing order*.\n",
    "\n",
    "**Note** that the first entry in the answer is considered to be the top of the deck.\n",
    "\n",
    "**Example 1:**\n",
    "\n",
    "Input: deck = [17,13,11,2,3,5,7]\n",
    "Output: [2,13,3,11,5,17,7]"
   ]
  },
  {
   "cell_type": "code",
   "execution_count": 7,
   "id": "f5ad4cf2",
   "metadata": {},
   "outputs": [
    {
     "name": "stdout",
     "output_type": "stream",
     "text": [
      "Final ordering: [2, 13, 3, 11, 5, 17, 7]\n"
     ]
    }
   ],
   "source": [
    "def deckRevealedIncreasing(deck):\n",
    "    deck.sort()  # Sort the deck in ascending order\n",
    "    result = []  # List to store the final ordering\n",
    "\n",
    "    while deck:\n",
    "        if result:\n",
    "            # Move the last card to the beginning\n",
    "            result.insert(0, result.pop())\n",
    "        result.insert(0, deck.pop())  # Take the top card and insert it at the beginning\n",
    "\n",
    "    return result\n",
    "\n",
    "# Test the implementation\n",
    "deck = [17, 13, 11, 2, 3, 5, 7]\n",
    "result = deckRevealedIncreasing(deck)\n",
    "print(\"Final ordering:\", result)"
   ]
  },
  {
   "cell_type": "markdown",
   "id": "637f91c0",
   "metadata": {},
   "source": [
    "<aside>\n",
    "💡 **Question 7**\n",
    "\n",
    "Design a queue that supports `push` and `pop` operations in the front, middle, and back.\n",
    "\n",
    "Implement the `FrontMiddleBack` class:\n",
    "\n",
    "- `FrontMiddleBack()` Initializes the queue.\n",
    "- `void pushFront(int val)` Adds `val` to the **front** of the queue.\n",
    "- `void pushMiddle(int val)` Adds `val` to the **middle** of the queue.\n",
    "- `void pushBack(int val)` Adds `val` to the **back** of the queue.\n",
    "- `int popFront()` Removes the **front** element of the queue and returns it. If the queue is empty, return `1`.\n",
    "- `int popMiddle()` Removes the **middle** element of the queue and returns it. If the queue is empty, return `1`.\n",
    "- `int popBack()` Removes the **back** element of the queue and returns it. If the queue is empty, return `1`.\n",
    "\n",
    "**Notice** that when there are **two** middle position choices, the operation is performed on the **frontmost** middle position choice. For example:\n",
    "\n",
    "- Pushing `6` into the middle of `[1, 2, 3, 4, 5]` results in `[1, 2, 6, 3, 4, 5]`.\n",
    "- Popping the middle from `[1, 2, 3, 4, 5, 6]` returns `3` and results in `[1, 2, 4, 5, 6]`.\n",
    "\n",
    "**Example 1:**\n",
    "Input:\n",
    "[\"FrontMiddleBackQueue\", \"pushFront\", \"pushBack\", \"pushMiddle\", \"pushMiddle\", \"popFront\", \"popMiddle\", \"popMiddle\", \"popBack\", \"popFront\"]\n",
    "[[], [1], [2], [3], [4], [], [], [], [], []]\n",
    "Output:\n",
    "[null, null, null, null, null, 1, 3, 4, 2, -1]\n"
   ]
  },
  {
   "cell_type": "code",
   "execution_count": 10,
   "id": "e253704d",
   "metadata": {},
   "outputs": [
    {
     "name": "stdout",
     "output_type": "stream",
     "text": [
      "1\n",
      "4\n",
      "2\n",
      "3\n",
      "-1\n"
     ]
    }
   ],
   "source": [
    "from collections import deque\n",
    "\n",
    "class FrontMiddleBackQueue:\n",
    "    def __init__(self):\n",
    "        self.queue = deque()\n",
    "\n",
    "    def pushFront(self, val: int) -> None:\n",
    "        self.queue.appendleft(val)\n",
    "\n",
    "    def pushMiddle(self, val: int) -> None:\n",
    "        mid = len(self.queue) // 2\n",
    "        self.queue.rotate(-mid)  # Rotate to bring the middle element to the end\n",
    "        self.queue.appendleft(val)  # Add the new element at the front\n",
    "        self.queue.rotate(mid)  # Rotate back to the original position\n",
    "\n",
    "    def pushBack(self, val: int) -> None:\n",
    "        self.queue.append(val)\n",
    "\n",
    "    def popFront(self) -> int:\n",
    "        return self.queue.popleft() if self.queue else -1\n",
    "\n",
    "    def popMiddle(self) -> int:\n",
    "        mid = len(self.queue) // 2\n",
    "        self.queue.rotate(-mid)  # Rotate to bring the middle element to the end\n",
    "        val = self.queue.pop() if self.queue else -1  # Remove and return the middle element\n",
    "        self.queue.rotate(mid)  # Rotate back to the original position\n",
    "        return val\n",
    "\n",
    "    def popBack(self) -> int:\n",
    "        return self.queue.pop() if self.queue else -1\n",
    "\n",
    "# Test the implementation\n",
    "q = FrontMiddleBackQueue()\n",
    "q.pushFront(1)\n",
    "q.pushBack(2)\n",
    "q.pushMiddle(3)\n",
    "q.pushMiddle(4)\n",
    "print(q.popFront())    \n",
    "print(q.popMiddle())   \n",
    "print(q.popMiddle())   \n",
    "print(q.popBack())     \n",
    "print(q.popFront())    "
   ]
  },
  {
   "cell_type": "markdown",
   "id": "808939c0",
   "metadata": {},
   "source": [
    "💡 **Question 8**\n",
    "\n",
    "For a stream of integers, implement a data structure that checks if the last `k` integers parsed in the stream are **equal** to `value`.\n",
    "\n",
    "Implement the **DataStream** class:\n",
    "\n",
    "- `DataStream(int value, int k)` Initializes the object with an empty integer stream and the two integers `value` and `k`.\n",
    "- `boolean consec(int num)` Adds `num` to the stream of integers. Returns `true` if the last `k` integers are equal to `value`, and `false` otherwise. If there are less than `k` integers, the condition does not hold true, so returns `false`.\n",
    "\n",
    "**Example 1:**\n",
    "Input\n",
    "[\"DataStream\", \"consec\", \"consec\", \"consec\", \"consec\"]\n",
    "[[4, 3], [4], [4], [4], [3]]\n",
    "Output\n",
    "[null, false, false, true, false]\n"
   ]
  },
  {
   "cell_type": "code",
   "execution_count": 11,
   "id": "6b7e15ee",
   "metadata": {},
   "outputs": [
    {
     "name": "stdout",
     "output_type": "stream",
     "text": [
      "False\n",
      "False\n",
      "True\n",
      "False\n"
     ]
    }
   ],
   "source": [
    "class DataStream:\n",
    "    def __init__(self, value: int, k: int):\n",
    "        self.stream = []\n",
    "        self.value = value\n",
    "        self.k = k\n",
    "\n",
    "    def consec(self, num: int) -> bool:\n",
    "        self.stream.append(num)\n",
    "        if len(self.stream) >= self.k:\n",
    "            last_k = self.stream[-self.k:]\n",
    "            return all(x == self.value for x in last_k)\n",
    "        return False\n",
    "\n",
    "# Test the implementation\n",
    "ds = DataStream(4, 3)\n",
    "print(ds.consec(4))  \n",
    "print(ds.consec(4))  \n",
    "print(ds.consec(4))  \n",
    "print(ds.consec(3))  "
   ]
  },
  {
   "cell_type": "code",
   "execution_count": null,
   "id": "8fafd3dc",
   "metadata": {},
   "outputs": [],
   "source": []
  }
 ],
 "metadata": {
  "kernelspec": {
   "display_name": "Python 3 (ipykernel)",
   "language": "python",
   "name": "python3"
  },
  "language_info": {
   "codemirror_mode": {
    "name": "ipython",
    "version": 3
   },
   "file_extension": ".py",
   "mimetype": "text/x-python",
   "name": "python",
   "nbconvert_exporter": "python",
   "pygments_lexer": "ipython3",
   "version": "3.9.13"
  }
 },
 "nbformat": 4,
 "nbformat_minor": 5
}
