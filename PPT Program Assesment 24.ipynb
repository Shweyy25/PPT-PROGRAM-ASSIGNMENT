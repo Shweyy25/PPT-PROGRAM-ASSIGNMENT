{
 "cells": [
  {
   "cell_type": "markdown",
   "id": "a9c950f3",
   "metadata": {},
   "source": [
    "# PPT Program Assesment 24"
   ]
  },
  {
   "cell_type": "markdown",
   "id": "446a7002",
   "metadata": {},
   "source": [
    "<aside>\n",
    "💡 1. **Roman to Integer**\n",
    "\n",
    "Roman numerals are represented by seven different symbols: `I`, `V`, `X`, `L`, `C`, `D` and `M`.\n",
    "\n",
    "```\n",
    "SymbolValue\n",
    "I             1\n",
    "V             5\n",
    "X             10\n",
    "L             50\n",
    "C             100\n",
    "D             500\n",
    "M             1000\n",
    "```\n",
    "\n",
    "For example, `2` is written as `II` in Roman numeral, just two ones added together. `12` is written as `XII`, which is simply `X + II`. The number `27` is written as `XXVII`, which is `XX + V + II`.\n",
    "\n",
    "Roman numerals are usually written largest to smallest from left to right. However, the numeral for four is not `IIII`. Instead, the number four is written as `IV`. Because the one is before the five we subtract it making four. The same principle applies to the number nine, which is written as `IX`. There are six instances where subtraction is used:\n",
    "\n",
    "- `I` can be placed before `V` (5) and `X` (10) to make 4 and 9.\n",
    "- `X` can be placed before `L` (50) and `C` (100) to make 40 and 90.\n",
    "- `C` can be placed before `D` (500) and `M` (1000) to make 400 and 900.\n",
    "\n",
    "Given a roman numeral, convert it to an integer.\n",
    "\n",
    "**Example 1:**\n",
    "Input: s = \"III\"\n",
    "Output: 3\n",
    "Explanation: III = 3"
   ]
  },
  {
   "cell_type": "code",
   "execution_count": 1,
   "id": "cf5ca88f",
   "metadata": {},
   "outputs": [
    {
     "name": "stdout",
     "output_type": "stream",
     "text": [
      "3\n"
     ]
    }
   ],
   "source": [
    "def romanToInt(s):\n",
    "    roman_values = {\n",
    "        'I': 1,\n",
    "        'V': 5,\n",
    "        'X': 10,\n",
    "        'L': 50,\n",
    "        'C': 100,\n",
    "        'D': 500,\n",
    "        'M': 1000\n",
    "    }\n",
    "    total = 0\n",
    "    prev_value = 0\n",
    "    \n",
    "    for i in range(len(s) - 1, -1, -1):\n",
    "        current_value = roman_values[s[i]]\n",
    "        if current_value >= prev_value:\n",
    "            total += current_value\n",
    "        else:\n",
    "            total -= current_value\n",
    "        prev_value = current_value\n",
    "    \n",
    "    return total\n",
    "\n",
    "# Test case\n",
    "s = \"III\"\n",
    "print(romanToInt(s))"
   ]
  },
  {
   "cell_type": "markdown",
   "id": "3ad91456",
   "metadata": {},
   "source": [
    "<aside>\n",
    "💡 2. **Longest Substring Without Repeating Characters**\n",
    "\n",
    "Given a string `s`, find the length of the **longest substring** without repeating characters.\n",
    "\n",
    "**Example 1:**\n",
    "\n",
    "<aside>\n",
    "💡 2. **Longest Substring Without Repeating Characters**\n",
    "\n",
    "Given a string `s`, find the length of the **longest substring** without repeating characters.\n",
    "\n",
    "**Example 1:**\n",
    "\n",
    "</aside>"
   ]
  },
  {
   "cell_type": "code",
   "execution_count": 2,
   "id": "551d2cd8",
   "metadata": {},
   "outputs": [
    {
     "name": "stdout",
     "output_type": "stream",
     "text": [
      "3\n"
     ]
    }
   ],
   "source": [
    "def lengthOfLongestSubstring(s):\n",
    "    # Create a set to store the unique characters in the current window\n",
    "    char_set = set()\n",
    "    n = len(s)\n",
    "    max_length = 0\n",
    "    left = 0\n",
    "    right = 0\n",
    "\n",
    "    # Slide the window\n",
    "    while right < n:\n",
    "        if s[right] not in char_set:\n",
    "            # If the current character is not in the set, add it to the set\n",
    "            char_set.add(s[right])\n",
    "            # Update the maximum length if necessary\n",
    "            max_length = max(max_length, right - left + 1)\n",
    "            right += 1\n",
    "        else:\n",
    "            # If the current character is already in the set, remove the leftmost character from the set\n",
    "            char_set.remove(s[left])\n",
    "            left += 1\n",
    "\n",
    "    return max_length\n",
    "\n",
    "# Test case\n",
    "s = \"abcabcbb\"\n",
    "print(lengthOfLongestSubstring(s))"
   ]
  },
  {
   "cell_type": "markdown",
   "id": "34fe09f4",
   "metadata": {},
   "source": [
    "<aside>\n",
    "💡 3. **Majority Element**\n",
    "\n",
    "Given an array `nums` of size `n`, return *the majority element*.\n",
    "\n",
    "The majority element is the element that appears more than `⌊n / 2⌋` times. You may assume that the majority element always exists in the array.\n",
    "\n",
    "**Example 1:**\n",
    "\n",
    "Input: nums = [3,2,3]\n",
    "Output: 3"
   ]
  },
  {
   "cell_type": "code",
   "execution_count": 3,
   "id": "a773db85",
   "metadata": {},
   "outputs": [
    {
     "name": "stdout",
     "output_type": "stream",
     "text": [
      "3\n"
     ]
    }
   ],
   "source": [
    "def majorityElement(nums):\n",
    "    candidate = None\n",
    "    count = 0\n",
    "\n",
    "    # Find the candidate for majority element\n",
    "    for num in nums:\n",
    "        if count == 0:\n",
    "            candidate = num\n",
    "        if num == candidate:\n",
    "            count += 1\n",
    "        else:\n",
    "            count -= 1\n",
    "\n",
    "    # Verify if the candidate is the majority element\n",
    "    count = 0\n",
    "    for num in nums:\n",
    "        if num == candidate:\n",
    "            count += 1\n",
    "\n",
    "    if count > len(nums) // 2:\n",
    "        return candidate\n",
    "    else:\n",
    "        return None\n",
    "\n",
    "# Test case\n",
    "nums = [3, 2, 3]\n",
    "print(majorityElement(nums))"
   ]
  },
  {
   "cell_type": "markdown",
   "id": "04fd2a1b",
   "metadata": {},
   "source": [
    "<aside>\n",
    "💡 4. **Group Anagram**\n",
    "\n",
    "Given an array of strings `strs`, group **the anagrams** together. You can return the answer in **any order**.\n",
    "\n",
    "An **Anagram** is a word or phrase formed by rearranging the letters of a different word or phrase, typically using all the original letters exactly once.\n",
    "\n",
    "**Example 1:**\n",
    "\n",
    "Input: strs = [\"eat\",\"tea\",\"tan\",\"ate\",\"nat\",\"bat\"]\n",
    "Output: [[\"bat\"],[\"nat\",\"tan\"],[\"ate\",\"eat\",\"tea\"]]"
   ]
  },
  {
   "cell_type": "code",
   "execution_count": 4,
   "id": "58aa1eb5",
   "metadata": {},
   "outputs": [
    {
     "name": "stdout",
     "output_type": "stream",
     "text": [
      "[['eat', 'tea', 'ate'], ['tan', 'nat'], ['bat']]\n"
     ]
    }
   ],
   "source": [
    "def groupAnagrams(strs):\n",
    "    anagram_map = {}\n",
    "\n",
    "    # Group anagrams based on sorted version\n",
    "    for word in strs:\n",
    "        sorted_word = \"\".join(sorted(word))\n",
    "        if sorted_word in anagram_map:\n",
    "            anagram_map[sorted_word].append(word)\n",
    "        else:\n",
    "            anagram_map[sorted_word] = [word]\n",
    "\n",
    "    # Convert the groups of anagrams into a list of lists\n",
    "    result = []\n",
    "    for group in anagram_map.values():\n",
    "        result.append(group)\n",
    "\n",
    "    return result\n",
    "\n",
    "# Test case\n",
    "strs = [\"eat\", \"tea\", \"tan\", \"ate\", \"nat\", \"bat\"]\n",
    "print(groupAnagrams(strs))"
   ]
  },
  {
   "cell_type": "markdown",
   "id": "9e3675d0",
   "metadata": {},
   "source": [
    "<aside>\n",
    "💡 5. **Ugly Numbers**\n",
    "\n",
    "An **ugly number** is a positive integer whose prime factors are limited to `2`, `3`, and `5`.\n",
    "\n",
    "Given an integer `n`, return *the* `nth` ***ugly number***.\n",
    "\n",
    "**Example 1:**\n",
    "Input: n = 10\n",
    "Output: 12\n",
    "Explanation: [1, 2, 3, 4, 5, 6, 8, 9, 10, 12] is the sequence of the first 10 ugly numbers."
   ]
  },
  {
   "cell_type": "code",
   "execution_count": 5,
   "id": "6984a080",
   "metadata": {},
   "outputs": [
    {
     "name": "stdout",
     "output_type": "stream",
     "text": [
      "12\n"
     ]
    }
   ],
   "source": [
    "def nthUglyNumber(n):\n",
    "    ugly_numbers = [1] * n\n",
    "    pointer_2 = pointer_3 = pointer_5 = 0\n",
    "\n",
    "    for i in range(1, n):\n",
    "        next_ugly = min(ugly_numbers[pointer_2] * 2, ugly_numbers[pointer_3] * 3, ugly_numbers[pointer_5] * 5)\n",
    "        ugly_numbers[i] = next_ugly\n",
    "\n",
    "        if next_ugly == ugly_numbers[pointer_2] * 2:\n",
    "            pointer_2 += 1\n",
    "        if next_ugly == ugly_numbers[pointer_3] * 3:\n",
    "            pointer_3 += 1\n",
    "        if next_ugly == ugly_numbers[pointer_5] * 5:\n",
    "            pointer_5 += 1\n",
    "\n",
    "    return ugly_numbers[n-1]\n",
    "\n",
    "# Test case\n",
    "n = 10\n",
    "print(nthUglyNumber(n))"
   ]
  },
  {
   "cell_type": "markdown",
   "id": "117a65c5",
   "metadata": {},
   "source": [
    "<aside>\n",
    "💡 6. **Top K Frequent Words**\n",
    "\n",
    "Given an array of strings `words` and an integer `k`, return *the* `k` *most frequent strings*.\n",
    "\n",
    "Return the answer **sorted** by **the frequency** from highest to lowest. Sort the words with the same frequency by their **lexicographical order**.\n",
    "\n",
    "**Example 1:**\n",
    "Input: words = [\"i\",\"love\",\"leetcode\",\"i\",\"love\",\"coding\"], k = 2\n",
    "Output: [\"i\",\"love\"]\n",
    "Explanation: \"i\" and \"love\" are the two most frequent words.\n",
    "Note that \"i\" comes before \"love\" due to a lower alphabetical order."
   ]
  },
  {
   "cell_type": "code",
   "execution_count": 10,
   "id": "367ce809",
   "metadata": {},
   "outputs": [
    {
     "name": "stdout",
     "output_type": "stream",
     "text": [
      "['i', 'love']\n"
     ]
    }
   ],
   "source": [
    "from collections import Counter\n",
    "import heapq\n",
    "\n",
    "def topKFrequent(words, k):\n",
    "    # Count the frequency of each word\n",
    "    frequency = Counter(words)\n",
    "\n",
    "    # Use a priority queue to sort the words based on their frequency and lexicographical order\n",
    "    pq = []\n",
    "    for word, count in frequency.items():\n",
    "        heapq.heappush(pq, (-count, word))\n",
    "\n",
    "    # Get the k most frequent words from the priority queue\n",
    "    result = []\n",
    "    for _ in range(k):\n",
    "        result.append(heapq.heappop(pq)[1])\n",
    "\n",
    "    return result\n",
    "\n",
    "# Test case\n",
    "words = [\"i\", \"love\", \"leetcode\", \"i\", \"love\", \"coding\"]\n",
    "k = 2\n",
    "print(topKFrequent(words, k))\n"
   ]
  },
  {
   "cell_type": "markdown",
   "id": "fbb563f8",
   "metadata": {},
   "source": [
    "<aside>\n",
    "💡 7. **Sliding Window Maximum**\n",
    "\n",
    "You are given an array of integers `nums`, there is a sliding window of size `k` which is moving from the very left of the array to the very right. You can only see the `k` numbers in the window. Each time the sliding window moves right by one position.\n",
    "\n",
    "Return *the max sliding window*.\n",
    "\n",
    "**Example 1:**\n",
    "\n",
    "Input: nums = [1,3,-1,-3,5,3,6,7], k = 3\n",
    "Output: [3,3,5,5,6,7]\n",
    "Explanation:\n",
    "Window position                Max\n",
    "---------------               -----\n",
    "[1  3  -1] -3  5  3  6 7         3\n",
    " 1 [3  -1  -3] 5  3  6 7         3\n",
    " 1  3 [-1  -3  5] 3  6 7         5\n",
    " 1  3  -1 [-3  5  3] 6 7         5\n",
    " 1  3  -1  -3 [5  3  6]7         6\n",
    " 1  3  -1  -3  5 [3  6  7]       7"
   ]
  },
  {
   "cell_type": "code",
   "execution_count": 7,
   "id": "cdb82253",
   "metadata": {},
   "outputs": [
    {
     "name": "stdout",
     "output_type": "stream",
     "text": [
      "[3, 3, 5, 5, 6, 7]\n"
     ]
    }
   ],
   "source": [
    "from collections import deque\n",
    "\n",
    "def maxSlidingWindow(nums, k):\n",
    "    # Initialize the deque and result array\n",
    "    window = deque()\n",
    "    result = []\n",
    "\n",
    "    for i, num in enumerate(nums):\n",
    "        # Remove indices of elements that are out of the current window\n",
    "        if window and window[0] <= i - k:\n",
    "            window.popleft()\n",
    "\n",
    "        # Remove indices of elements smaller than the current element from the deque\n",
    "        while window and nums[window[-1]] < num:\n",
    "            window.pop()\n",
    "\n",
    "        # Add the current index to the deque\n",
    "        window.append(i)\n",
    "\n",
    "        # Add the maximum element to the result for the first window\n",
    "        if i >= k - 1:\n",
    "            result.append(nums[window[0]])\n",
    "\n",
    "    return result\n",
    "\n",
    "# Test case\n",
    "nums = [1, 3, -1, -3, 5, 3, 6, 7]\n",
    "k = 3\n",
    "print(maxSlidingWindow(nums, k))"
   ]
  },
  {
   "cell_type": "markdown",
   "id": "4f11d3ad",
   "metadata": {},
   "source": [
    "<aside>\n",
    "💡 8. **Find K Closest Elements**\n",
    "\n",
    "Given a **sorted** integer array `arr`, two integers `k` and `x`, return the `k` closest integers to `x` in the array. The result should also be sorted in ascending order.\n",
    "\n",
    "An integer `a` is closer to `x` than an integer `b` if:\n",
    "\n",
    "- `|a - x| < |b - x|`, or\n",
    "- `|a - x| == |b - x|` and `a < b`\n",
    "\n",
    "**Example 1:**\n",
    "\n",
    "Input: arr = [1,2,3,4,5], k = 4, x = 3\n",
    "Output: [1,2,3,4]"
   ]
  },
  {
   "cell_type": "code",
   "execution_count": 14,
   "id": "928fb87f",
   "metadata": {},
   "outputs": [
    {
     "name": "stdout",
     "output_type": "stream",
     "text": [
      "[1, 2, 3, 4]\n"
     ]
    }
   ],
   "source": [
    "def findClosestElements(arr, k, x):\n",
    "    left = 0\n",
    "    right = len(arr) - k\n",
    "\n",
    "    # Binary search to find the position of x in the array\n",
    "    while left < right:\n",
    "        mid = (left + right) // 2\n",
    "        if x - arr[mid] > arr[mid + k] - x:\n",
    "            left = mid + 1\n",
    "        else:\n",
    "            right = mid\n",
    "\n",
    "    return arr[left:left+k]\n",
    "\n",
    "# Test case\n",
    "arr = [1, 2, 3, 4, 5]\n",
    "k = 4\n",
    "x = 3\n",
    "print(findClosestElements(arr, k, x))"
   ]
  },
  {
   "cell_type": "code",
   "execution_count": null,
   "id": "5e3dccbe",
   "metadata": {},
   "outputs": [],
   "source": []
  }
 ],
 "metadata": {
  "kernelspec": {
   "display_name": "Python 3 (ipykernel)",
   "language": "python",
   "name": "python3"
  },
  "language_info": {
   "codemirror_mode": {
    "name": "ipython",
    "version": 3
   },
   "file_extension": ".py",
   "mimetype": "text/x-python",
   "name": "python",
   "nbconvert_exporter": "python",
   "pygments_lexer": "ipython3",
   "version": "3.9.13"
  }
 },
 "nbformat": 4,
 "nbformat_minor": 5
}
