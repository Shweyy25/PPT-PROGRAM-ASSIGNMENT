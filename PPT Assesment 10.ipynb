{
 "cells": [
  {
   "cell_type": "markdown",
   "id": "4076db83",
   "metadata": {},
   "source": [
    "# PPT Assesment 10"
   ]
  },
  {
   "cell_type": "markdown",
   "id": "f9bd9436",
   "metadata": {},
   "source": [
    "<aside>\n",
    "💡 **Question 1**\n",
    "\n",
    "Given an integer `n`, return *`true` if it is a power of three. Otherwise, return `false`*.\n",
    "\n",
    "An integer `n` is a power of three, if there exists an integer `x` such that `n == 3x`.\n",
    "\n",
    "**Example 1:**\n",
    "\n",
    "```\n",
    "Input: n = 27\n",
    "Output: true\n",
    "Explanation: 27 = 33\n",
    "```\n",
    "\n",
    "**Example 2:**\n",
    "\n",
    "```\n",
    "Input: n = 0\n",
    "Output: false\n",
    "Explanation: There is no x where 3x = 0.\n",
    "\n",
    "```\n",
    "\n",
    "**Example 3:**\n",
    "\n",
    "</aside>"
   ]
  },
  {
   "cell_type": "code",
   "execution_count": 5,
   "id": "c5181faa",
   "metadata": {},
   "outputs": [
    {
     "name": "stdout",
     "output_type": "stream",
     "text": [
      "True\n",
      "False\n",
      "True\n",
      "False\n"
     ]
    }
   ],
   "source": [
    "def is_power_of_three(n):\n",
    "    if n <= 0:\n",
    "        return False\n",
    "    while n % 3 == 0:\n",
    "        n = n // 3\n",
    "    return n == 1\n",
    "\n",
    "# Test the function\n",
    "print(is_power_of_three(27))  \n",
    "print(is_power_of_three(0))   \n",
    "print(is_power_of_three(9))   \n",
    "print(is_power_of_three(45))  "
   ]
  },
  {
   "cell_type": "markdown",
   "id": "47e63152",
   "metadata": {},
   "source": [
    "<aside>\n",
    "💡 **Question 3**\n",
    "\n",
    "****Given a set represented as a string, write a recursive code to print all subsets of it. The subsets can be printed in any order.\n",
    "\n",
    "**Example 1:**\n",
    "\n",
    "Input :  set = “abc”\n",
    "\n",
    "Output : { “”, “a”, “b”, “c”, “ab”, “ac”, “bc”, “abc”}\n",
    "\n",
    "**Example 2:**\n",
    "\n",
    "Input : set = “abcd”\n",
    "\n",
    "Output : { “”, “a” ,”ab” ,”abc” ,”abcd”, “abd” ,”ac” ,”acd”, “ad” ,”b”, “bc” ,”bcd” ,”bd” ,”c” ,”cd” ,”d” }\n",
    "\n",
    "</aside>"
   ]
  },
  {
   "cell_type": "code",
   "execution_count": 6,
   "id": "d6870bde",
   "metadata": {},
   "outputs": [],
   "source": [
    "def print_subsets(set):\n",
    "    subsets = []  # List to store subsets\n",
    "    \n",
    "    def generate_subsets(index, set, subset):\n",
    "        if index == len(set):\n",
    "            subsets.append(subset)  # Base case: Add subset to the list\n",
    "        else:\n",
    "            # Recursive case: Include/exclude character at current index\n",
    "            generate_subsets(index + 1, set, subset + set[index])  # Include\n",
    "            generate_subsets(index + 1, set, subset)  # Exclude\n",
    "    \n",
    "    generate_subsets(0, set, \"\")  # Call the recursive function\n",
    "    \n",
    "    return subsets"
   ]
  },
  {
   "cell_type": "code",
   "execution_count": 8,
   "id": "41cf20be",
   "metadata": {},
   "outputs": [
    {
     "name": "stdout",
     "output_type": "stream",
     "text": [
      "['abc', 'ab', 'ac', 'a', 'bc', 'b', 'c', '']\n",
      "['abcd', 'abc', 'abd', 'ab', 'acd', 'ac', 'ad', 'a', 'bcd', 'bc', 'bd', 'b', 'cd', 'c', 'd', '']\n"
     ]
    }
   ],
   "source": [
    "\n",
    "# Test the function\n",
    "print(print_subsets(\"abc\"))  \n",
    "print(print_subsets(\"abcd\"))"
   ]
  },
  {
   "cell_type": "markdown",
   "id": "a7af9578",
   "metadata": {},
   "source": [
    "<aside>\n",
    "💡 **Question 4**\n",
    "\n",
    "Given a string calculate length of the string using recursion.\n",
    "\n",
    "**Examples:**\n",
    "    Input : str = \"abcd\"\n",
    "Output :4\n",
    "\n",
    "Input : str = \"GEEKSFORGEEKS\"\n",
    "Output :13\n",
    "\n",
    "</aside>"
   ]
  },
  {
   "cell_type": "code",
   "execution_count": 11,
   "id": "9ec029d9",
   "metadata": {},
   "outputs": [
    {
     "name": "stdout",
     "output_type": "stream",
     "text": [
      "4\n",
      "13\n"
     ]
    }
   ],
   "source": [
    "def calculate_length(string):\n",
    "    if string == \"\":\n",
    "        return 0  # Base case: Empty string\n",
    "    else:\n",
    "        return 1 + calculate_length(string[1:])  # Recursive case\n",
    "\n",
    "# Test the function\n",
    "print(calculate_length(\"abcd\"))  \n",
    "print(calculate_length(\"GEEKSFORGEEKS\")) "
   ]
  },
  {
   "cell_type": "markdown",
   "id": "d2a55102",
   "metadata": {},
   "source": [
    "<aside>\n",
    "💡 **Question 5**\n",
    "\n",
    "We are given a string S, we need to find count of all contiguous substrings starting and ending with same character.\n",
    "\n",
    "**Examples :**\n",
    "    Input  : S = \"abcab\"\n",
    "Output : 7\n",
    "There are 15 substrings of \"abcab\"\n",
    "a, ab, abc, abca, abcab, b, bc, bca\n",
    "bcab, c, ca, cab, a, ab, b\n",
    "Out of the above substrings, there\n",
    "are 7 substrings : a, abca, b, bcab,\n",
    "c, a and b.\n",
    "\n",
    "Input  : S = \"aba\"\n",
    "Output : 4\n",
    "The substrings are a, b, a and aba\n",
    "\n",
    "</aside>"
   ]
  },
  {
   "cell_type": "code",
   "execution_count": 13,
   "id": "48558d47",
   "metadata": {},
   "outputs": [],
   "source": [
    "def countSubstrings(S):\n",
    "    count = 0\n",
    "    n = len(S)\n",
    "    for i in range(n):\n",
    "        for j in range(i, n):\n",
    "            if S[i] == S[j]:\n",
    "                count += 1\n",
    "    return count"
   ]
  },
  {
   "cell_type": "code",
   "execution_count": 14,
   "id": "b9633c99",
   "metadata": {},
   "outputs": [
    {
     "name": "stdout",
     "output_type": "stream",
     "text": [
      "7\n",
      "4\n"
     ]
    }
   ],
   "source": [
    "S = \"abcab\"\n",
    "print(countSubstrings(S)) \n",
    "\n",
    "S = \"aba\"\n",
    "print(countSubstrings(S))"
   ]
  },
  {
   "cell_type": "markdown",
   "id": "1e80bf8d",
   "metadata": {},
   "source": [
    "<aside>\n",
    "💡 **Question 6**\n",
    "\n",
    "The [tower of Hanoi] is a famous puzzle where we have three rods and **N** disks. The objective of the puzzle is to move the entire stack to another rod. You are given the number of discs **N**. Initially, these discs are in the rod 1. You need to print all the steps of discs movement so that all the discs reach the 3rd rod. Also, you need to find the total moves.**Note:** The discs are arranged such that the **top disc is numbered 1** and the **bottom-most disc is numbered N**. Also, all the discs have **different sizes** and a bigger disc **cannot** be put on the top of a smaller disc. Refer the provided link to get a better clarity about the puzzle.\n",
    "\n",
    "**Example 1:**\n",
    "    Input:\n",
    "N = 2\n",
    "Output:\n",
    "move disk 1 from rod 1 to rod 2\n",
    "move disk 2 from rod 1 to rod 3\n",
    "move disk 1 from rod 2 to rod 3\n",
    "3\n",
    "Explanation:For N=2 , steps will be\n",
    "as follows in the example and total\n",
    "3 steps will be taken.\n",
    "\n",
    "</aside>"
   ]
  },
  {
   "cell_type": "code",
   "execution_count": 16,
   "id": "56c547d5",
   "metadata": {},
   "outputs": [
    {
     "name": "stdout",
     "output_type": "stream",
     "text": [
      "Enter the number of discs: 3\n",
      "Move disk 1 from rod A to rod C\n",
      "Move disk 2 from rod A to rod B\n",
      "Move disk 1 from rod C to rod B\n",
      "Move disk 3 from rod A to rod C\n",
      "Move disk 1 from rod B to rod A\n",
      "Move disk 2 from rod B to rod C\n",
      "Move disk 1 from rod A to rod C\n",
      "Total moves: 7\n"
     ]
    }
   ],
   "source": [
    "def tower_of_hanoi(n, source, destination, auxiliary):\n",
    "    if n == 1:\n",
    "        print(\"Move disk 1 from rod\", source, \"to rod\", destination)\n",
    "        return 1\n",
    "\n",
    "    total_moves = tower_of_hanoi(n-1, source, auxiliary, destination)\n",
    "\n",
    "    print(\"Move disk\", n, \"from rod\", source, \"to rod\", destination)\n",
    "    total_moves += 1\n",
    "\n",
    "    total_moves += tower_of_hanoi(n-1, auxiliary, destination, source)\n",
    "\n",
    "    return total_moves\n",
    "\n",
    "# Test the code\n",
    "n = int(input(\"Enter the number of discs: \"))\n",
    "total_moves = tower_of_hanoi(n, 'A', 'C', 'B')\n",
    "print(\"Total moves:\", total_moves)"
   ]
  },
  {
   "cell_type": "markdown",
   "id": "cea5ea15",
   "metadata": {},
   "source": [
    "<aside>\n",
    "💡 **Question 7**\n",
    "\n",
    "Given a string **str**, the task is to print all the permutations of **str**. A **permutation** is an arrangement of all or part of a set of objects, with regard to the order of the arrangement. For instance, the words ‘bat’ and ‘tab’ represents two distinct permutation (or arrangements) of a similar three letter word.\n",
    "\n",
    "**Examples:**\n",
    "    > Input: str = “cd”\n",
    "> \n",
    "> \n",
    "> **Output:** cd dc\n",
    "> \n",
    "> **Input:** str = “abb”\n",
    "> \n",
    "> **Output:** abb abb bab bba bab bba\n",
    ">\n",
    "\n",
    "</aside>"
   ]
  },
  {
   "cell_type": "code",
   "execution_count": 18,
   "id": "8d717b57",
   "metadata": {},
   "outputs": [
    {
     "name": "stdout",
     "output_type": "stream",
     "text": [
      "Enter a string: abb\n",
      "abb\n",
      "abb\n",
      "bab\n",
      "bba\n",
      "bba\n",
      "bab\n"
     ]
    }
   ],
   "source": [
    "def permutations(str):\n",
    "    # Convert the string into a list of characters\n",
    "    char_list = list(str)\n",
    "    n = len(char_list)\n",
    "    \n",
    "    # Recursive function to generate permutations\n",
    "    def generate_permutations(char_list, start, end):\n",
    "        if start == end:\n",
    "            # Convert the list back to a string and print the permutation\n",
    "            print(''.join(char_list))\n",
    "        else:\n",
    "            for i in range(start, end + 1):\n",
    "                # Swap characters\n",
    "                char_list[start], char_list[i] = char_list[i], char_list[start]\n",
    "                \n",
    "                # Recursively generate permutations\n",
    "                generate_permutations(char_list, start + 1, end)\n",
    "                \n",
    "                # Restore the original order of characters\n",
    "                char_list[start], char_list[i] = char_list[i], char_list[start]\n",
    "\n",
    "    # Call the recursive function to generate permutations\n",
    "    generate_permutations(char_list, 0, n - 1)\n",
    "\n",
    "# Test the code\n",
    "str = input(\"Enter a string: \")\n",
    "permutations(str)"
   ]
  },
  {
   "cell_type": "markdown",
   "id": "1be071c6",
   "metadata": {},
   "source": [
    "<aside>\n",
    "💡 **Question 8**\n",
    "\n",
    "Given a string, count total number of consonants in it. A consonant is an English alphabet character that is not vowel (a, e, i, o and u). Examples of constants are b, c, d, f, and g.\n",
    "\n",
    "**Examples :**\n",
    "    Input : abc de\n",
    "Output : 3\n",
    "There are three consonants b, c and d.\n",
    "\n",
    "Input : geeksforgeeks portal\n",
    "Output : 12\n",
    "\n",
    "</aside>"
   ]
  },
  {
   "cell_type": "code",
   "execution_count": 19,
   "id": "283cdf87",
   "metadata": {},
   "outputs": [
    {
     "name": "stdout",
     "output_type": "stream",
     "text": [
      "Enter a string: abc de\n",
      "Total number of consonants: 3\n"
     ]
    }
   ],
   "source": [
    "def count_consonants(string):\n",
    "    consonants = 'bcdfghjklmnpqrstvwxyzBCDFGHJKLMNPQRSTVWXYZ'\n",
    "    count = 0\n",
    "    \n",
    "    for char in string:\n",
    "        if char in consonants:\n",
    "            count += 1\n",
    "    \n",
    "    return count\n",
    "\n",
    "# Test the code\n",
    "string = input(\"Enter a string: \")\n",
    "result = count_consonants(string)\n",
    "print(\"Total number of consonants:\", result)"
   ]
  },
  {
   "cell_type": "code",
   "execution_count": null,
   "id": "76b8a034",
   "metadata": {},
   "outputs": [],
   "source": []
  }
 ],
 "metadata": {
  "kernelspec": {
   "display_name": "Python 3 (ipykernel)",
   "language": "python",
   "name": "python3"
  },
  "language_info": {
   "codemirror_mode": {
    "name": "ipython",
    "version": 3
   },
   "file_extension": ".py",
   "mimetype": "text/x-python",
   "name": "python",
   "nbconvert_exporter": "python",
   "pygments_lexer": "ipython3",
   "version": "3.9.13"
  }
 },
 "nbformat": 4,
 "nbformat_minor": 5
}
