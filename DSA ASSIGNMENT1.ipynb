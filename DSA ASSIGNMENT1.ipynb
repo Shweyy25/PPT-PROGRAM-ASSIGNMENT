{
 "cells": [
  {
   "cell_type": "markdown",
   "id": "fd812da8",
   "metadata": {},
   "source": [
    "# PPT Program Assignment 1"
   ]
  },
  {
   "cell_type": "markdown",
   "id": "91ef11d3",
   "metadata": {},
   "source": [
    "<aside>\n",
    "💡 **Q1.** Given an array of integers nums and an integer target, return indices of the two numbers such that they add up to target.\n",
    "\n",
    "You may assume that each input would have exactly one solution, and you may not use the same element twice.\n",
    "\n",
    "You can return the answer in any order.\n",
    "\n",
    "**Example:**\n",
    "Input: nums = [2,7,11,15], target = 9\n",
    "Output0 [0,1]\n",
    "\n",
    "**Explanation:** Because nums[0] + nums[1] == 9, we return [0, 1]"
   ]
  },
  {
   "cell_type": "code",
   "execution_count": 6,
   "id": "47444255",
   "metadata": {},
   "outputs": [],
   "source": [
    "def twonums(nums,target):\n",
    "    for i in range(len(nums)):\n",
    "        for j in range(i+1,len(nums)):\n",
    "            if nums[i]+nums[j]==target:\n",
    "                return [i,j]"
   ]
  },
  {
   "cell_type": "code",
   "execution_count": 8,
   "id": "605512d2",
   "metadata": {},
   "outputs": [
    {
     "name": "stdout",
     "output_type": "stream",
     "text": [
      "[1, 3]\n"
     ]
    }
   ],
   "source": [
    "nums = [2,5,6,4,5]\n",
    "target = 9\n",
    "result = twonums(nums, target)\n",
    "print(result)"
   ]
  },
  {
   "cell_type": "markdown",
   "id": "7d7121c8",
   "metadata": {},
   "source": [
    "💡 **Q2.** Given an integer array nums and an integer val, remove all occurrences of val in nums in-place. The order of the elements may be changed. Then return the number of elements in nums which are not equal to val.\n",
    "\n",
    "Consider the number of elements in nums which are not equal to val be k, to get accepted, you need to do the following things:\n",
    "\n",
    "- Change the array nums such that the first k elements of nums contain the elements which are not equal to val. The remaining elements of nums are not important as well as the size of nums.\n",
    "- Return k.\n",
    "\n",
    "**Example :**\n",
    "Input: nums = [3,2,2,3], val = 3\n",
    "Output: 2, nums = [2,2,_*,_*]\n",
    "\n",
    "**Explanation:** Your function should return k = 2, with the first two elements of nums being 2. It does not matter what you leave beyond the returned k (hence they are underscores)\n",
    "\n",
    "</aside>"
   ]
  },
  {
   "cell_type": "code",
   "execution_count": 41,
   "id": "d7587f5c",
   "metadata": {},
   "outputs": [],
   "source": [
    "def removeElement(nums, val):\n",
    "    k = 0  # Initialize the count of non-val elements\n",
    "\n",
    "    # Iterate through the array\n",
    "    for num in nums:\n",
    "        if num != val:\n",
    "            nums[k] = num\n",
    "            k += 1\n",
    "\n",
    "    return k\n",
    "            \n",
    "        "
   ]
  },
  {
   "cell_type": "code",
   "execution_count": 43,
   "id": "a42a0fe9",
   "metadata": {},
   "outputs": [
    {
     "name": "stdout",
     "output_type": "stream",
     "text": [
      "4 [2, 5, 6, 4]\n"
     ]
    }
   ],
   "source": [
    "# Test the function\n",
    "nums = [2,3,5,6,3,3,4]\n",
    "val = 3\n",
    "result = removeElement(nums, val)\n",
    "print(result, nums[:result])"
   ]
  },
  {
   "cell_type": "markdown",
   "id": "4d7103c6",
   "metadata": {},
   "source": [
    "💡 **Q3.** Given a sorted array of distinct integers and a target value, return the index if the target is found. If not, return the index where it would be if it were inserted in order.\n",
    "\n",
    "You must write an algorithm with O(log n) runtime complexity.\n",
    "\n",
    "**Example 1:**\n",
    "Input: nums = [1,3,5,6], target = 5\n",
    "\n",
    "Output: 2\n",
    "\n",
    "</aside>"
   ]
  },
  {
   "cell_type": "code",
   "execution_count": 51,
   "id": "0ac15857",
   "metadata": {},
   "outputs": [],
   "source": [
    "#Brute Force\n",
    "def array(num,tar):\n",
    "    for i in range(len(num)):\n",
    "        if num[i]==tar:\n",
    "            print(i)\n",
    "            \n",
    "            \n",
    "        "
   ]
  },
  {
   "cell_type": "code",
   "execution_count": 52,
   "id": "d57a341b",
   "metadata": {},
   "outputs": [
    {
     "name": "stdout",
     "output_type": "stream",
     "text": [
      "1\n",
      "4\n",
      "5\n"
     ]
    }
   ],
   "source": [
    "num = [2,3,5,6,3,3,4]\n",
    "tar = 3\n",
    "array(num,tar)"
   ]
  },
  {
   "cell_type": "code",
   "execution_count": 58,
   "id": "6d5eecf6",
   "metadata": {},
   "outputs": [],
   "source": [
    "#2nd approach Binary search technique\n",
    "def array2(num,tar):\n",
    "    l=0\n",
    "    r=len(num)-1\n",
    "    while l<r :\n",
    "        mid=(l+r)//2\n",
    "        if num[mid]==tar:\n",
    "            return mid\n",
    "        elif num[mid]<tar:\n",
    "            l=mid+1\n",
    "        else :\n",
    "            r=mid-1\n",
    "    return l"
   ]
  },
  {
   "cell_type": "code",
   "execution_count": 59,
   "id": "245384c9",
   "metadata": {},
   "outputs": [
    {
     "name": "stdout",
     "output_type": "stream",
     "text": [
      "Output: 2\n"
     ]
    }
   ],
   "source": [
    "num= [1, 3, 5, 6]\n",
    "tar= 5\n",
    "result = array2(num, tar)\n",
    "print(\"Output:\", result)"
   ]
  },
  {
   "cell_type": "markdown",
   "id": "0d44e7a4",
   "metadata": {},
   "source": [
    "💡 **Q4.** You are given a large integer represented as an integer array digits, where each digits[i] is the ith digit of the integer. The digits are ordered from most significant to least significant in left-to-right order. The large integer does not contain any leading 0's.\n",
    "\n",
    "Increment the large integer by one and return the resulting array of digits.\n",
    "\n",
    "**Example 1:**\n",
    "Input: digits = [1,2,3]\n",
    "Output: [1,2,4]\n",
    "\n",
    "**Explanation:** The array represents the integer 123.\n",
    "\n",
    "Incrementing by one gives 123 + 1 = 124.\n",
    "Thus, the result should be [1,2,4].\n",
    "\n",
    "</aside>"
   ]
  },
  {
   "cell_type": "code",
   "execution_count": 62,
   "id": "7a51ccc9",
   "metadata": {},
   "outputs": [],
   "source": [
    "def incrementDigits(digits):\n",
    "    carry = 1  # Initialize carry to 1\n",
    "    for i in range(len(digits) - 1, -1, -1):\n",
    "        digits[i] += carry  # Add carry to the current digit\n",
    "        \n",
    "        if digits[i] <= 9:  # If the sum is less than or equal to 9, stop and return digits\n",
    "            return digits\n",
    "        \n",
    "        digits[i] = 0  # Set the current digit to 0 if the sum is greater than 9\n",
    "    \n",
    "    digits.insert(0, 1)  # Insert a new digit 1 at the beginning if all digits are 0\n",
    "    return digits"
   ]
  },
  {
   "cell_type": "code",
   "execution_count": 64,
   "id": "c92e27e9",
   "metadata": {},
   "outputs": [
    {
     "name": "stdout",
     "output_type": "stream",
     "text": [
      "[1, 2, 6, 7]\n"
     ]
    }
   ],
   "source": [
    "digits = [1, 2, 6,6]\n",
    "result = incrementDigits(digits)\n",
    "print(result)"
   ]
  },
  {
   "cell_type": "markdown",
   "id": "5057687d",
   "metadata": {},
   "source": [
    "💡 **Q5.** You are given two integer arrays nums1 and nums2, sorted in non-decreasing order, and two integers m and n, representing the number of elements in nums1 and nums2 respectively.\n",
    "\n",
    "Merge nums1 and nums2 into a single array sorted in non-decreasing order.\n",
    "\n",
    "The final sorted array should not be returned by the function, but instead be stored inside the array nums1. To accommodate this, nums1 has a length of m + n, where the first m elements denote the elements that should be merged, and the last n elements are set to 0 and should be ignored. nums2 has a length of n.\n",
    "\n",
    "**Example 1:**\n",
    "Input: nums1 = [1,2,3,0,0,0], m = 3, nums2 = [2,5,6], n = 3\n",
    "Output: [1,2,2,3,5,6]\n",
    "\n",
    "**Explanation:** The arrays we are merging are [1,2,3] and [2,5,6].\n",
    "The result of the merge is [1,2,2,3,5,6] with the underlined elements coming from nums1.\n",
    "\n",
    "</aside>"
   ]
  },
  {
   "cell_type": "code",
   "execution_count": 69,
   "id": "b44a1d41",
   "metadata": {},
   "outputs": [
    {
     "data": {
      "text/plain": [
       "[1, 2, 2, 3, 3, 6]"
      ]
     },
     "execution_count": 69,
     "metadata": {},
     "output_type": "execute_result"
    }
   ],
   "source": [
    "#brute Force\n",
    "num1=[1,2,3]\n",
    "num2=[2,3,6]\n",
    "num3=num1+num2\n",
    "num3.sort()\n",
    "num3"
   ]
  },
  {
   "cell_type": "code",
   "execution_count": 70,
   "id": "e833d3e5",
   "metadata": {},
   "outputs": [],
   "source": [
    "def mergeArrays(nums1, m, nums2, n):\n",
    "    i = m - 1  # Index for nums1\n",
    "    j = n - 1  # Index for nums2\n",
    "    k = m + n - 1  # Index for merged array\n",
    "    \n",
    "    while i >= 0 and j >= 0:\n",
    "        if nums1[i] > nums2[j]:\n",
    "            nums1[k] = nums1[i]\n",
    "            i -= 1\n",
    "        else:\n",
    "            nums1[k] = nums2[j]\n",
    "            j -= 1\n",
    "        k -= 1\n",
    "    \n",
    "    # If there are remaining elements in nums2\n",
    "    while j >= 0:\n",
    "        nums1[k] = nums2[j]\n",
    "        j -= 1\n",
    "        k -= 1\n",
    "\n"
   ]
  },
  {
   "cell_type": "code",
   "execution_count": 71,
   "id": "1cc7382f",
   "metadata": {},
   "outputs": [
    {
     "name": "stdout",
     "output_type": "stream",
     "text": [
      "[1, 2, 2, 3, 5, 6]\n"
     ]
    }
   ],
   "source": [
    "nums1 = [1, 2, 3, 0, 0, 0]\n",
    "m = 3\n",
    "nums2 = [2, 5, 6]\n",
    "n = 3\n",
    "\n",
    "mergeArrays(nums1, m, nums2, n)\n",
    "print(nums1)"
   ]
  },
  {
   "cell_type": "markdown",
   "id": "458f9d27",
   "metadata": {},
   "source": [
    "💡 **Q6.** Given an integer array nums, return true if any value appears at least twice in the array, and return false if every element is distinct.\n",
    "\n",
    "**Example 1:**\n",
    "Input: nums = [1,2,3,1]\n",
    "\n",
    "Output: true\n",
    "\n"
   ]
  },
  {
   "cell_type": "code",
   "execution_count": 74,
   "id": "2eb4dbad",
   "metadata": {},
   "outputs": [],
   "source": [
    "def containsDuplicate(nums):\n",
    "    # Create a set to store unique elements\n",
    "    unique_elements = set()\n",
    "    \n",
    "    for num in nums:\n",
    "        if num in unique_elements:\n",
    "            return True\n",
    "        unique_elements.add(num)\n",
    "    \n",
    "    return False"
   ]
  },
  {
   "cell_type": "code",
   "execution_count": 75,
   "id": "bc5ce497",
   "metadata": {},
   "outputs": [
    {
     "name": "stdout",
     "output_type": "stream",
     "text": [
      "True\n"
     ]
    }
   ],
   "source": [
    "nums = [1, 2, 3, 1]\n",
    "result = containsDuplicate(nums)\n",
    "print(result)"
   ]
  },
  {
   "cell_type": "markdown",
   "id": "c440800b",
   "metadata": {},
   "source": [
    "💡 **Q7.** Given an integer array nums, move all 0's to the end of it while maintaining the relative order of the nonzero elements.\n",
    "\n",
    "Note that you must do this in-place without making a copy of the array.\n",
    "\n",
    "**Example 1:**\n",
    "Input: nums = [0,1,0,3,12]\n",
    "Output: [1,3,12,0,0]\n",
    "\n"
   ]
  },
  {
   "cell_type": "code",
   "execution_count": 76,
   "id": "8d0752aa",
   "metadata": {},
   "outputs": [],
   "source": [
    "def moveZeroes(nums):\n",
    "    # Initialize a pointer to keep track of the position to insert non-zero elements\n",
    "    insert_pos = 0\n",
    "    \n",
    "    # Iterate through each element in the array\n",
    "    for num in nums:\n",
    "        # If the current element is non-zero, move it to the insert position and increment the insert position\n",
    "        if num != 0:\n",
    "            nums[insert_pos] = num\n",
    "            insert_pos += 1\n",
    "    \n",
    "    # Fill the remaining positions with zeroes\n",
    "    while insert_pos < len(nums):\n",
    "        nums[insert_pos] = 0\n",
    "        insert_pos += 1\n"
   ]
  },
  {
   "cell_type": "code",
   "execution_count": 77,
   "id": "c1da640e",
   "metadata": {},
   "outputs": [
    {
     "name": "stdout",
     "output_type": "stream",
     "text": [
      "[1, 3, 12, 0, 0]\n"
     ]
    }
   ],
   "source": [
    "nums = [0, 1, 0, 3, 12]\n",
    "moveZeroes(nums)\n",
    "print(nums)"
   ]
  },
  {
   "cell_type": "markdown",
   "id": "615e8f7d",
   "metadata": {},
   "source": [
    "💡 **Q8.** You have a set of integers s, which originally contains all the numbers from 1 to n. Unfortunately, due to some error, one of the numbers in s got duplicated to another number in the set, which results in repetition of one number and loss of another number.\n",
    "\n",
    "You are given an integer array nums representing the data status of this set after the error.\n",
    "\n",
    "Find the number that occurs twice and the number that is missing and return them in the form of an array.\n",
    "\n",
    "**Example 1:**\n",
    "Input: nums = [1,2,2,4]\n",
    "Output: [2,3]\n"
   ]
  },
  {
   "cell_type": "code",
   "execution_count": 78,
   "id": "72bfeab6",
   "metadata": {},
   "outputs": [],
   "source": [
    "def findErrorNums(nums):\n",
    "    # Initialize variables\n",
    "    n = len(nums)\n",
    "    duplicate = -1\n",
    "    missing = -1\n",
    "    \n",
    "    # Calculate the sum of the original set of numbers (1 to n)\n",
    "    original_sum = (n * (n + 1)) // 2\n",
    "    \n",
    "    # Calculate the sum of the given nums array\n",
    "    nums_sum = sum(nums)\n",
    "    \n",
    "    # Create a set to track the unique numbers in nums\n",
    "    num_set = set()\n",
    "    \n",
    "    # Iterate through each number in nums\n",
    "    for num in nums:\n",
    "        # If the number is already in the set, it is the duplicate\n",
    "        if num in num_set:\n",
    "            duplicate = num\n",
    "        # Add the number to the set\n",
    "        num_set.add(num)\n",
    "    \n",
    "    # Calculate the missing number\n",
    "    missing = original_sum - (nums_sum - duplicate)\n",
    "    \n",
    "    return [duplicate, missing]"
   ]
  },
  {
   "cell_type": "code",
   "execution_count": 79,
   "id": "2db0b756",
   "metadata": {},
   "outputs": [
    {
     "name": "stdout",
     "output_type": "stream",
     "text": [
      "[2, 3]\n"
     ]
    }
   ],
   "source": [
    "nums = [1, 2, 2, 4]\n",
    "result = findErrorNums(nums)\n",
    "print(result)"
   ]
  },
  {
   "cell_type": "code",
   "execution_count": null,
   "id": "d3a5a00b",
   "metadata": {},
   "outputs": [],
   "source": []
  }
 ],
 "metadata": {
  "kernelspec": {
   "display_name": "Python 3 (ipykernel)",
   "language": "python",
   "name": "python3"
  },
  "language_info": {
   "codemirror_mode": {
    "name": "ipython",
    "version": 3
   },
   "file_extension": ".py",
   "mimetype": "text/x-python",
   "name": "python",
   "nbconvert_exporter": "python",
   "pygments_lexer": "ipython3",
   "version": "3.9.13"
  }
 },
 "nbformat": 4,
 "nbformat_minor": 5
}
